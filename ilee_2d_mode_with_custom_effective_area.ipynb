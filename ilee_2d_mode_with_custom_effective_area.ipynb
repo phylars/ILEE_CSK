{
  "cells": [
    {
      "cell_type": "markdown",
      "metadata": {
        "id": "view-in-github",
        "colab_type": "text"
      },
      "source": [
        "<a href=\"https://colab.research.google.com/github/phylars/ILEE_CSK/blob/ipynb/ilee_2d_mode_with_custom_effective_area.ipynb\" target=\"_parent\"><img src=\"https://colab.research.google.com/assets/colab-badge.svg\" alt=\"Open In Colab\"/></a>"
      ]
    },
    {
      "cell_type": "markdown",
      "metadata": {
        "id": "w7Tj2_7i686D"
      },
      "source": [
        "# **Preparation**\n",
        "\n",
        "Please transfer you confocal format files to raw (stack) tiff images using ImageJ/FIJI, and put them in a new folder.\n",
        "*   If you wish to run the pipeline in Google Colab, please upload the tiff folder to your Google Drive\n"
      ]
    },
    {
      "cell_type": "code",
      "source": [
        "#@title Mount your google drive\n",
        "from google.colab import drive\n",
        "drive.mount('/content/drive')"
      ],
      "metadata": {
        "cellView": "form",
        "id": "VmK7rCEO4xgq"
      },
      "execution_count": null,
      "outputs": []
    },
    {
      "cell_type": "code",
      "execution_count": null,
      "metadata": {
        "cellView": "form",
        "id": "wsKrDTbZsHXj"
      },
      "outputs": [],
      "source": [
        "#@title Install ILEE_CSK and dependencies\n",
        "!pip install -U ILEE_CSK\n",
        "import ILEE_CSK\n",
        "import skimage.io as io\n",
        "import matplotlib.pyplot as plt\n",
        "import numpy as np\n",
        "import pandas as pd\n",
        "import scikit_posthocs as sp"
      ]
    },
    {
      "cell_type": "code",
      "execution_count": 3,
      "metadata": {
        "cellView": "form",
        "id": "dpkimxja0Kvq"
      },
      "outputs": [],
      "source": [
        "#@title Input the image folder containing all the raw tiffs in this experiment\n",
        "\n",
        "folder_path = ''  #@param {type: \"string\"}"
      ]
    },
    {
      "cell_type": "code",
      "execution_count": null,
      "metadata": {
        "cellView": "form",
        "id": "e0HjhAZovxyI"
      },
      "outputs": [],
      "source": [
        "#@title Estimate optimal K2\n",
        "#@markdown K2 is an parameter required for ILEE processing. We recommend use the optimal K2 calculated by this function for most of the cases.\n",
        "\n",
        "#@markdown According to the projected images of each channel, shown above, please input channel index of cytoskeleton fluorescence:\n",
        "\n",
        "objective_channel_index = 0  #@param {type: \"number\"}\n",
        "optimal_K2 = ILEE_CSK.opt_k2(folder_path, target_channel = objective_channel_index)\n",
        "print('The estimated optimal K2 is', optimal_K2)"
      ]
    },
    {
      "cell_type": "markdown",
      "metadata": {
        "id": "1xzRnK7Z76XF"
      },
      "source": [
        "# **Start processing your samples**"
      ]
    },
    {
      "cell_type": "code",
      "execution_count": null,
      "metadata": {
        "cellView": "form",
        "id": "Pl_6G9f72iAj"
      },
      "outputs": [],
      "source": [
        "#@title Set input parameters and run\n",
        "\n",
        "#@markdown Input the path of your area excel file.\n",
        "effective_areas_excel_file_path = \"\"  #@param {type: \"string\"}\n",
        "#@markdown Set the channel for analysis.\n",
        "objective_channel_index = 0  #@param {type: \"number\"}\n",
        "#@markdown Set K1. Highly recommended set K1 to 2.5, unless you know what it means.\n",
        "K1 = 2.5  #@param {type: \"number\"}\n",
        "#@markdown Copy your optimal K2 to this place:\n",
        "K2 = None  #@param {type: \"number\"}\n",
        "#@markdown Set your Laplacian Matrix type, highly recommended use pL_8, unless you know what this means:\n",
        "pL_type = \"pL_8\"  #@param ['pL_8', 'pL_4']\n",
        "\n",
        "#@markdown Set pixel unit size by μm. Check the pixel size using ImageJ/Fiji or your confocal program. If set to 1, the length unit PU will be \"pixel\". If set to the true pixel size, the length unit PU will be \"μm\". This must be EXACTLY the SAME as the area data you input.\n",
        "pixel_size = 1  #@param {type: \"number\"}\n",
        "\n",
        "\n",
        "df_areas = pd.read_excel(effective_areas_excel_file_path)\n",
        "areas = np.array(df_areas.area).astype('float')\n",
        "\n",
        "df_result = ILEE_CSK.analyze_document_2D (folder_path = folder_path,\n",
        "                                          obj_channel = objective_channel_index,\n",
        "                                          k1 = K1,\n",
        "                                          k2 = K2,\n",
        "                                          pixel_size = 1,\n",
        "                                          exclude_true_blank = True,\n",
        "                                          effective_area_data = areas)\n",
        "\n",
        "\n",
        "\n"
      ]
    },
    {
      "cell_type": "markdown",
      "metadata": {
        "id": "ForWKqWEhVzh"
      },
      "source": [
        "# **Get the result**"
      ]
    },
    {
      "cell_type": "code",
      "execution_count": null,
      "metadata": {
        "cellView": "form",
        "id": "q5AJwQdvS3Cb"
      },
      "outputs": [],
      "source": [
        "#@title Show your data table\n",
        "df_result.style"
      ]
    },
    {
      "cell_type": "code",
      "execution_count": null,
      "metadata": {
        "cellView": "form",
        "id": "ePOBpTCGq946"
      },
      "outputs": [],
      "source": [
        "#@title Download the data as Excel file.\n",
        "from google.colab import files\n",
        "df_result.to_excel('result.xlsx')\n",
        "files.download('result.xlsx')"
      ]
    },
    {
      "cell_type": "code",
      "execution_count": null,
      "metadata": {
        "cellView": "form",
        "id": "AVJZ1ivir0Vt"
      },
      "outputs": [],
      "source": [
        "#@title Visualize your data\n",
        "#@markdown As noted above, to enable visualization and significance test, your tiff files must be named as \"xxx(group)-xxx(index)\".\n",
        "ILEE_CSK.visualize_results(df_result)"
      ]
    },
    {
      "cell_type": "code",
      "execution_count": null,
      "metadata": {
        "cellView": "form",
        "id": "wB0NY7VScpf3"
      },
      "outputs": [],
      "source": [
        "#@title Significant test\n",
        "\n",
        "p_thres = 0.05  #@param {type: \"number\"}\n",
        "\n",
        "Data_property = \"I am measuring biological samples and/or want to learn the biological features at my experiment condition. (Use post-hoc, FDR Benjamini\\u2013Hochberg method)\"  #@param ['I am measuring biological samples and/or want to learn the biological features at my experiment condition. (Use post-hoc, Holm–Bonferroni method)', 'I am measuring biological samples and/or want to learn the biological features at my experiment condition. (Use post-hoc, FDR Benjamini–Hochberg method)', 'I am not using data to interpret biological features and the image per-se is ground truth. (No post-hoc)']\n",
        "if (Data_property == 'I am measuring biological samples and/or want to learn the biological features at my experiment condition. (Use post-hoc, Holm–Bonferroni method)'):\n",
        "  p_adjust = 'holm'\n",
        "elif (Data_property == 'I am measuring biological samples and/or want to learn the biological features at my experiment condition. (Use post-hoc, FDR Benjamini–Hochberg method)'):\n",
        "  p_adjust = 'fdr_bh'\n",
        "else:\n",
        "  p_adjust = None\n",
        "#@markdown Recommend Holm-Bonferroni method for post-hoc. In some rare cases, Holm-Bonferroni may have very abnormal results; try FDR Benjamini–Hochberg method instead then.\n",
        "\n",
        "print('Testing with P value threshold at', p_thres)\n",
        "print('Family-wise error correction :', p_adjust)\n",
        "print('\\n')\n",
        "\n",
        "sd_table = ILEE_CSK.total_df_multiple_comparison (df = df_result, cat_var_column = 'group', p_thres = p_thres, column_types = ['float'], p_adjust = p_adjust)\n",
        "sd_table.style"
      ]
    }
  ],
  "metadata": {
    "colab": {
      "provenance": [],
      "include_colab_link": true
    },
    "kernelspec": {
      "display_name": "Python 3",
      "name": "python3"
    },
    "language_info": {
      "name": "python"
    }
  },
  "nbformat": 4,
  "nbformat_minor": 0
}