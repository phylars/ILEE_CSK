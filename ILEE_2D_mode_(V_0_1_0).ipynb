{
  "nbformat": 4,
  "nbformat_minor": 0,
  "metadata": {
    "colab": {
      "name": "ILEE 2D mode (V 0.1.0).ipynb",
      "provenance": [],
      "collapsed_sections": [],
      "mount_file_id": "1B5RYP0N-Nh69vFuqNWqpvOFnu55_LCgB",
      "authorship_tag": "ABX9TyP5/x8ME2V+iRoscQriYiep",
      "include_colab_link": true
    },
    "kernelspec": {
      "name": "python3",
      "display_name": "Python 3"
    },
    "language_info": {
      "name": "python"
    }
  },
  "cells": [
    {
      "cell_type": "markdown",
      "metadata": {
        "id": "view-in-github",
        "colab_type": "text"
      },
      "source": [
        "<a href=\"https://colab.research.google.com/github/phylars/ILEE_CSK/blob/ipynb/ILEE_2D_mode_(V_0_1_0).ipynb\" target=\"_parent\"><img src=\"https://colab.research.google.com/assets/colab-badge.svg\" alt=\"Open In Colab\"/></a>"
      ]
    },
    {
      "cell_type": "markdown",
      "metadata": {
        "id": "w7Tj2_7i686D"
      },
      "source": [
        "# **Preparation**\n",
        "\n",
        "Please transfer you confocal format files to raw (stack) tiff images using ImageJ/FIJI, and put them in a new folder. \n",
        "*   If you wish to run the pipeline in Google Colab, please upload the tiff folder to your Google Drive; \n",
        "*   If you wish to run the pipeline locally, please download this .ipynb file to your local device and open it by Jupyter Notebook. \n"
      ]
    },
    {
      "cell_type": "code",
      "metadata": {
        "id": "wsKrDTbZsHXj",
        "cellView": "form"
      },
      "source": [
        "#@title Install ILEE_CSK and dependencies\n",
        "!pip install -U ILEE_CSK \n",
        "import ILEE_CSK \n",
        "import skimage.io as io\n",
        "import matplotlib.pyplot as plt\n",
        "import numpy as np\n",
        "import pandas as pd\n",
        "import scikit_posthocs as sp"
      ],
      "execution_count": null,
      "outputs": []
    },
    {
      "cell_type": "code",
      "metadata": {
        "id": "_R9cQS_Us_vi",
        "cellView": "form"
      },
      "source": [
        "#@title Inspect the data structure of your tif image\n",
        "#@markdown All your image samples should be taken under the same confocal setting. Please input the file path of any one of your image file in this batch of experiment, below. It can be local (for jupyter notebook) or in your Google Drive (Google Colab):\n",
        "\n",
        "example_tif_file_path = \"example_document/example-123.tif\"  #@param {type: \"string\"}\n",
        "img_example = io.imread(example_tif_file_path)\n",
        "print('The image array structure is', img_example.shape)\n",
        "\n",
        "#@markdown (Optional/Recommended): This pipeline also provide data visualization and significance analysis. To enable this, please name your tiff files as (group_name)-(repeat_index).tif, such as mock-1.tif, mock-2.tif, or treatment1-1.tif ... The hyphen '-' must occur only once. "
      ],
      "execution_count": null,
      "outputs": []
    },
    {
      "cell_type": "markdown",
      "metadata": {
        "id": "LRmm6srlFxDX"
      },
      "source": [
        "The image array structure needs to meet 2 requirements:\n",
        "\n",
        "*   Your image array structure should be 3D or 4D (seeing 3 or 4 numbers in the tuple). If it is 2D, you may be using a projected image, ILEE_CSK fully supports it but it cannot be processed in this pipeline. If it has 5 or more dimension, this is an abnormal data structure and please submit a bug report in the Github.\n",
        "*   If it is 4D, the dimension with lowest size should be your channel, and the the dimension with second lowest size should be your z-axis.\n",
        "\n",
        "To learn which channel is your objective, please run the following step to inspect your example image:"
      ]
    },
    {
      "cell_type": "code",
      "metadata": {
        "id": "Fea04aCaFwH6",
        "cellView": "form"
      },
      "source": [
        "#@title Inspect the channels of the example image\n",
        "def align_image_dimension(img):\n",
        "    img_size = np.array(img.shape)\n",
        "    dimension = img_size.shape[0]\n",
        "    df_dimension = pd.DataFrame(data = img_size, columns = ['dimension_size'])\n",
        "    df_dimension['dimension_index'] = range(img_size.shape[0])\n",
        "    df_dimension = df_dimension.sort_values(by = ['dimension_size', 'dimension_index'])\n",
        "    if (dimension <= 2):\n",
        "      print ('Error: image have less than 3 dimensions; please check data structure')\n",
        "      return()\n",
        "    elif (dimension == 3):\n",
        "      result = np.moveaxis(img, source = np.array(df_dimension['dimension_index']), destination = np.array([0,1,2]))\n",
        "    elif (dimension == 4):\n",
        "      result = np.moveaxis(img, source = np.array(df_dimension['dimension_index']), destination = np.array([0,1,2,3]))\n",
        "    else:\n",
        "      print('image has more than 4 dimension (x, y, z, and channel); please check data structure')\n",
        "      return()\n",
        "    return (result)\n",
        "\n",
        "if(len(img_example.shape) == 3):\n",
        "  print('Your image sample is a 3D array (does not have channel dimension). Please set objective_channel to None in the next step.')\n",
        "  print('\\n')\n",
        "  img_example = align_image_dimension(img_example)\n",
        "  img_example_p = np.amax(img_example, axis=0)\n",
        "  print('Below is a z-axis projected of your image sample:')\n",
        "  plt.figure(figsize = (6, 6))\n",
        "  plt.imshow(img_example_p)\n",
        "  plt.axis('off')\n",
        "  plt.show()\n",
        "elif(len(img_example.shape) == 4):\n",
        "  print('Your image sample is a 4D array (contains channel dimension). The projection image of each channel is shown below:')\n",
        "  print('\\n')\n",
        "  img_example = align_image_dimension(img_example)\n",
        "  for i in range(img_example.shape[0]):\n",
        "    img_example_p = np.amax(img_example[i,:,:,:], axis=0)\n",
        "    print('channel', i)\n",
        "    plt.figure(figsize = (6, 6))\n",
        "    plt.imshow(img_example_p)\n",
        "    plt.axis('off')\n",
        "    plt.show()\n",
        "    print('\\n')\n",
        "print('Please set the objective_channel to the correct channel index for cytoskeleton in the next step.')"
      ],
      "execution_count": null,
      "outputs": []
    },
    {
      "cell_type": "code",
      "metadata": {
        "id": "dpkimxja0Kvq",
        "cellView": "form"
      },
      "source": [
        "#@title Input the image folder containing all the raw tiffs in this experiment\n",
        "\n",
        "folder_path = 'example_folder/example_subfolder'  #@param {type: \"string\"}"
      ],
      "execution_count": null,
      "outputs": []
    },
    {
      "cell_type": "code",
      "metadata": {
        "id": "e0HjhAZovxyI",
        "cellView": "form"
      },
      "source": [
        "#@title Estimate optimal K2\n",
        "#@markdown K2 is an parameter required for ILEE processing. We recommend use the optimal K2 calculated by this function for most of the cases.\n",
        "\n",
        "#@markdown According to the projected images of each channel, shown above, please input channel index of cytoskeleton fluorescence:\n",
        "\n",
        "objective_channel_index = 0  #@param {type: \"number\"}\n",
        "optimal_K2 = ILEE_CSK.opt_k2(folder_path, target_channel = objective_channel_index)\n",
        "print('The estimated optimal K2 is', optimal_K2)"
      ],
      "execution_count": null,
      "outputs": []
    },
    {
      "cell_type": "markdown",
      "metadata": {
        "id": "1xzRnK7Z76XF"
      },
      "source": [
        "# **Start processing your samples**"
      ]
    },
    {
      "cell_type": "code",
      "metadata": {
        "id": "Pl_6G9f72iAj",
        "cellView": "form"
      },
      "source": [
        "#@title Set input parameters and run\n",
        "\n",
        "objective_channel_index = 0  #@param {type: \"number\"}\n",
        "#@markdown Highly recommended set K1 to 2.5, unless you know what it means.\n",
        "K1 = 2.5  #@param {type: \"number\"}\n",
        "#@markdown Copy your optimal K2 to this place:\n",
        "K2 =   Input_your_K2_here#@param {type: \"number\"}\n",
        "#@markdown Highly recommended use pL_8.\n",
        "pL_type = \"pL_8\"  #@param ['pL_8', 'pL_4']\n",
        "exclude_true_blank = False  #@param {type:\"boolean\"}\n",
        "pixel_size = 1  #@param {type: \"number\"}\n",
        "\n",
        "df_result = ILEE_CSK.analyze_document_2D (folder_path = folder_path,\n",
        "                                          obj_channel = objective_channel_index,\n",
        "                                          k1 = K1,\n",
        "                                          k2 = K2,\n",
        "                                          pixel_size = 1, \n",
        "                                          exclude_true_blank = exclude_true_blank)\n",
        "\n",
        "\n",
        "\n"
      ],
      "execution_count": null,
      "outputs": []
    },
    {
      "cell_type": "code",
      "metadata": {
        "id": "q5AJwQdvS3Cb",
        "cellView": "form"
      },
      "source": [
        "#@title Show your data table\n",
        "df_result.style"
      ],
      "execution_count": null,
      "outputs": []
    },
    {
      "cell_type": "code",
      "metadata": {
        "id": "ePOBpTCGq946",
        "cellView": "form"
      },
      "source": [
        "#@title Download the data as Excel file.\n",
        "from google.colab import files\n",
        "df_result.to_excel('result.xlsx')\n",
        "files.download('result.xlsx')"
      ],
      "execution_count": null,
      "outputs": []
    },
    {
      "cell_type": "code",
      "metadata": {
        "id": "AVJZ1ivir0Vt",
        "cellView": "form"
      },
      "source": [
        "#@title Visualize your data\n",
        "#@markdown As noted above, to enable visualization and significance test, your tiff files must be named as \"xxx(group)-xxx(index)\".\n",
        "import seaborn as sns\n",
        "\n",
        "df_result['group'] = [i.split('-')[0] for i in df_result['file_name']]\n",
        "df_result['repeat'] = [(i.split('-')[1]).split('.')[0] for i in df_result['file_name']]\n",
        "\n",
        "indices = df_result.columns[0:9]\n",
        "\n",
        "sns.set(font_scale = 1.6)\n",
        "sns.set_style(\"ticks\")\n",
        "fig, axes = plt.subplots(3, 3, figsize=(16,16))\n",
        "for i in range(9):\n",
        "  g1 = sns.barplot(data = df_result,\n",
        "                   x = 'group', \n",
        "                   y = indices[i], \n",
        "                   ci = 'sd',\n",
        "                   errwidth = 4,\n",
        "                   capsize= 0.3,\n",
        "                   errcolor = 'black',\n",
        "                   palette = 'deep',\n",
        "                   ax = axes[int(i/3),i%3])\n",
        "  g2 = sns.stripplot(data = df_result, \n",
        "                    x = 'group', \n",
        "                    y = indices[i],\n",
        "                    size = 16, \n",
        "                    edgecolor = 'gray', \n",
        "                    linewidth = 3, \n",
        "                    alpha = 0.86,\n",
        "                    palette = 'dark',\n",
        "                    ax = axes[int(i/3),i%3])\n",
        "fig.tight_layout()\n",
        "plt.show()\n",
        "\n",
        "\n"
      ],
      "execution_count": null,
      "outputs": []
    },
    {
      "cell_type": "code",
      "metadata": {
        "id": "wB0NY7VScpf3",
        "cellView": "form"
      },
      "source": [
        "#@title Significant test\n",
        "\n",
        "p_thres = 0.05  #@param {type: \"number\"}\n",
        "Data_property = \"I am measuring biological samples and/or want to learn the biological features at my experiment condition. (Use post-hoc)\"  #@param ['I am measuring biological samples and/or want to learn the biological features at my experiment condition. (Use post-hoc)', 'I am not using data to interpret biological features and the image per-se is ground truth. (No post-hoc)']\n",
        "if (Data_property == 'I am measuring biological samples and/or want to learn the biological features at my experiment condition. (Use post-hoc)'):\n",
        "  p_adjust = 'holm'\n",
        "else:\n",
        "  p_adjust = None\n",
        "\n",
        "print('Testing with P value threshold at', p_thres)\n",
        "print('Family-wise error correction :', p_adjust)\n",
        "print('\\n')\n",
        "\n",
        "def multiple_comparison (df, cat_var_column, value_column, p_thres, p_adjust = p_adjust):\n",
        "    #cat_vars: list of names of columns for categorical variables\n",
        "    #value: name of (dependent) the numeric variable you want to compare\n",
        "    result = pd.DataFrame()\n",
        "    cat_vars = np.unique(df[cat_var_column])\n",
        "    n = cat_vars.shape[0]\n",
        "    \n",
        "    data = []\n",
        "    for i in range(n):\n",
        "        data.append(df[df[cat_var_column] == cat_vars[i]][value_column])\n",
        "        new_row = pd.DataFrame(columns = ['group','index','n','mean','std'],\n",
        "                               data = [[cat_vars[i], i, data[i].shape[0], np.mean(data[i]), np.std(data[i])]])\n",
        "        result = result.append(new_row, ignore_index=True)     \n",
        "    p_matrix = sp.posthoc_ttest(data, p_adjust = p_adjust)\n",
        "    p_matrix = np.array(p_matrix)\n",
        "    \n",
        "    result = result.sort_values(by = ['mean'], ascending = False, ignore_index = True)\n",
        "    result['mark'] = ''\n",
        "    \n",
        "    start=0\n",
        "    mark=0\n",
        "    result.at[0, 'mark'] = chr(97+mark)\n",
        "    \n",
        "    while(1):\n",
        "        for i in range(start + 1, n):\n",
        "            #print ('forward comparing', start, i, chr(97+mark))\n",
        "            start_id = result.loc[start]['index']\n",
        "            i_id = result.loc[i]['index']\n",
        "            #print(p_matrix[start_id,i_id])\n",
        "            if (p_matrix[start_id,i_id] > p_thres):\n",
        "                if (result.at[i, 'mark'] == ''):\n",
        "                  result.at[i, 'mark'] = result.at[i, 'mark'] + (chr(97+mark))\n",
        "                elif (result.at[i, 'mark'][-1] != chr(97+mark)):\n",
        "                  result.at[i, 'mark'] = result.at[i, 'mark'] + (chr(97+mark))\n",
        "            else:\n",
        "                mark+=1\n",
        "                result.at[i, 'mark'] = result.at[i, 'mark'] + (chr(97+mark))\n",
        "                start = i*1\n",
        "                #print (i, 'extend', chr(97+mark))\n",
        "                break\n",
        "        for ii in range (i-1, 0, -1):\n",
        "            #print ('backward comparing', i, ii, chr(97+mark))\n",
        "            ii_id = result.loc[ii]['index']\n",
        "            i_id = result.loc[i]['index']\n",
        "            if (p_matrix[ii_id, i_id] > p_thres):\n",
        "                if (result.at[ii, 'mark'] == ''):\n",
        "                  result.at[ii, 'mark'] = result.at[ii, 'mark'] + (chr(97+mark))\n",
        "                elif (result.at[ii, 'mark'][-1] != chr(97+mark)):\n",
        "                  result.at[ii, 'mark'] = result.at[ii, 'mark'] + (chr(97+mark))\n",
        "        if (i==n-1):\n",
        "            break\n",
        "        \n",
        "    return (result)\n",
        "            \n",
        "def df_multiple_comparison (df, cat_var_column, p_thres = p_thres, column_types = ['float'], p_adjust = p_adjust):\n",
        "    sd_table = pd.DataFrame(columns = ['group'], data = np.unique(df[cat_var_column]))\n",
        "    value_cols = []\n",
        "    for col in df.columns:\n",
        "      if (df[col].dtype in column_types):\n",
        "        value_cols.append(col)\n",
        "    for col in value_cols:\n",
        "      result = multiple_comparison(df = df, cat_var_column = cat_var_column, value_column = col, p_thres = p_thres, p_adjust = p_adjust)\n",
        "      print('Cytoskeleton index:', col)\n",
        "      print(result, '\\n')\n",
        "      add_on_table = result[['group', 'mark']]\n",
        "      add_on_table = add_on_table.rename(columns={'mark': col})\n",
        "      sd_table = sd_table.merge(add_on_table, on = 'group')\n",
        "    return (sd_table)\n",
        "\n",
        "sd_table = df_multiple_comparison(df = df_result, cat_var_column = 'group', p_thres = p_thres, p_adjust = p_adjust)\n",
        "print('Comparison of all indices:')\n",
        "sd_table.style"
      ],
      "execution_count": null,
      "outputs": []
    }
  ]
}