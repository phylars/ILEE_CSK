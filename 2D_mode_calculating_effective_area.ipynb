{
  "cells": [
    {
      "cell_type": "markdown",
      "metadata": {
        "id": "view-in-github",
        "colab_type": "text"
      },
      "source": [
        "<a href=\"https://colab.research.google.com/github/phylars/ILEE_CSK/blob/ipynb/2D_mode_calculating_effective_area.ipynb\" target=\"_parent\"><img src=\"https://colab.research.google.com/assets/colab-badge.svg\" alt=\"Open In Colab\"/></a>"
      ]
    },
    {
      "cell_type": "markdown",
      "metadata": {
        "id": "w7Tj2_7i686D"
      },
      "source": [
        "# **Preparation**\n",
        "\n",
        "Please transfer you confocal format files to raw (stack) tiff images using ImageJ/FIJI, and put them in a new folder.\n",
        "*   If you wish to run the pipeline in Google Colab, please upload the tiff folder to your Google Drive\n"
      ]
    },
    {
      "cell_type": "code",
      "source": [
        "#@title Mount to your google drive\n",
        "from google.colab import drive\n",
        "drive.mount('/content/drive')"
      ],
      "metadata": {
        "colab": {
          "base_uri": "https://localhost:8080/"
        },
        "cellView": "form",
        "id": "Vv_j5tkKX-Zg",
        "outputId": "adb4e3c2-4d4a-4887-a8a4-f230c8ab093f"
      },
      "execution_count": null,
      "outputs": [
        {
          "output_type": "stream",
          "name": "stdout",
          "text": [
            "Drive already mounted at /content/drive; to attempt to forcibly remount, call drive.mount(\"/content/drive\", force_remount=True).\n"
          ]
        }
      ]
    },
    {
      "cell_type": "code",
      "execution_count": null,
      "metadata": {
        "cellView": "form",
        "id": "wsKrDTbZsHXj"
      },
      "outputs": [],
      "source": [
        "#@title Install ILEE_CSK and dependencies\n",
        "!pip install -U ILEE_CSK\n",
        "import ILEE_CSK\n",
        "import skimage.io as io\n",
        "import matplotlib.pyplot as plt\n",
        "import numpy as np\n",
        "import pandas as pd\n",
        "import scikit_posthocs as sp"
      ]
    },
    {
      "cell_type": "code",
      "execution_count": null,
      "metadata": {
        "cellView": "form",
        "id": "_R9cQS_Us_vi"
      },
      "outputs": [],
      "source": [
        "#@title Inspect the data structure of your tif image\n",
        "#@markdown All your image samples should be taken under the same confocal setting. Please input the file path of any one of your image file in this batch of experiment, below. It can be local (for jupyter notebook) or in your Google Drive (Google Colab):\n",
        "\n",
        "example_tif_file_path = \"\"  #@param {type: \"string\"}\n",
        "img_example = io.imread(example_tif_file_path)\n",
        "print('The image array structure is', img_example.shape)\n",
        "\n",
        "#@markdown (Optional/Recommended): This pipeline also provide data visualization and significance analysis. To enable this, please name your tiff files as (group_name)-(repeat_index).tif, such as mock-1.tif, mock-2.tif, or treatment1-1.tif ... The hyphen '-' must occur only once."
      ]
    },
    {
      "cell_type": "markdown",
      "metadata": {
        "id": "LRmm6srlFxDX"
      },
      "source": [
        "The image array structure needs to meet 2 requirements:\n",
        "\n",
        "*   Your image array structure should be 3D or 4D (seeing 3 or 4 numbers in the tuple). If it is 2D, you may be using a projected image, ILEE_CSK fully supports it but it cannot be processed in this pipeline. If it has 5 or more dimension, this is an abnormal data structure and please submit a bug report in the Github.\n",
        "*   If it is 4D, the dimension with lowest size should be your channel, and the the dimension with second lowest size should be your z-axis.\n",
        "\n",
        "To learn which channel is your objective, please run the following step to inspect your example image:"
      ]
    },
    {
      "cell_type": "code",
      "execution_count": null,
      "metadata": {
        "cellView": "form",
        "id": "Fea04aCaFwH6"
      },
      "outputs": [],
      "source": [
        "#@title Inspect the channels of the example image\n",
        "def align_image_dimension(img):\n",
        "    img_size = np.array(img.shape)\n",
        "    dimension = img_size.shape[0]\n",
        "    df_dimension = pd.DataFrame(data = img_size, columns = ['dimension_size'])\n",
        "    df_dimension['dimension_index'] = range(img_size.shape[0])\n",
        "    df_dimension = df_dimension.sort_values(by = ['dimension_size', 'dimension_index'])\n",
        "    if (dimension <= 2):\n",
        "      print ('Error: image have less than 3 dimensions; please check data structure')\n",
        "      return()\n",
        "    elif (dimension == 3):\n",
        "      result = np.moveaxis(img, source = np.array(df_dimension['dimension_index']), destination = np.array([0,1,2]))\n",
        "    elif (dimension == 4):\n",
        "      result = np.moveaxis(img, source = np.array(df_dimension['dimension_index']), destination = np.array([0,1,2,3]))\n",
        "    else:\n",
        "      print('image has more than 4 dimension (x, y, z, and channel); please check data structure')\n",
        "      return()\n",
        "    return (result)\n",
        "\n",
        "if(len(img_example.shape) == 3):\n",
        "  print('Your image sample is a 3D array (does not have channel dimension). Please set objective_channel to None in the next step.')\n",
        "  print('\\n')\n",
        "  img_example = align_image_dimension(img_example)\n",
        "  img_example_p = np.amax(img_example, axis=0)\n",
        "  print('Below is a z-axis projected of your image sample:')\n",
        "  plt.figure(figsize = (5, 5))\n",
        "  plt.imshow(img_example_p)\n",
        "  plt.axis('off')\n",
        "  plt.show()\n",
        "elif(len(img_example.shape) == 4):\n",
        "  print('Your image sample is a 4D array (contains channel dimension). The projection image of each channel is shown below:')\n",
        "  print('\\n')\n",
        "  img_example = align_image_dimension(img_example)\n",
        "  for i in range(img_example.shape[0]):\n",
        "    img_example_p = np.amax(img_example[i,:,:,:], axis=0)\n",
        "    print('channel', i)\n",
        "    plt.figure(figsize = (5, 5))\n",
        "    plt.imshow(img_example_p)\n",
        "    plt.axis('off')\n",
        "    plt.show()\n",
        "    print('\\n')\n",
        "print('Please set the objective_channel to the correct channel index for cytoskeleton in the next step.')"
      ]
    },
    {
      "cell_type": "code",
      "execution_count": null,
      "metadata": {
        "cellView": "form",
        "id": "dpkimxja0Kvq"
      },
      "outputs": [],
      "source": [
        "#@title Input the image folder containing all the raw tiffs in this experiment\n",
        "\n",
        "folder_path = ''  #@param {type: \"string\"}"
      ]
    },
    {
      "cell_type": "code",
      "execution_count": null,
      "metadata": {
        "cellView": "form",
        "id": "e0HjhAZovxyI"
      },
      "outputs": [],
      "source": [
        "#@title Test total cell segmentation arguments and output effective area data\n",
        "#@markdown The defualt setting is provided as below. Please test different arguments until you find satisfied results:\n",
        "\n",
        "#@markdown global_thres_fold determines how high the is global threshold is set. Default setting is 4.5.\n",
        "\n",
        "#@markdown hole_thres determines filling holes that is lower than a give area by pixel. The 'default' string is 1/256 of the total image. Please make sure you include the quotation mark if you are using 'default'.\n",
        "\n",
        "#@markdown global_thres_fold determines deleting small object that is lower than a given area. Default setting is 3.\n",
        "\n",
        "from ILEE_CSK import test_and_call_areas_of_folder\n",
        "objective_channel_index = 0  #@param {type: \"number\"}\n",
        "global_thres_fold = 4.5 #@param {type: \"number\"}\n",
        "hole_thres = 'default' #@param\n",
        "objective_thres = 3 #@param {type: \"number\"}\n",
        "df_areas = test_and_call_areas_of_folder (folder_path = folder_path,\n",
        "                                          obj_channel = objective_channel_index,\n",
        "                                          global_thres_fold = global_thres_fold,\n",
        "                                          hole_thres = hole_thres,\n",
        "                                          objective_thres = objective_thres)\n"
      ]
    },
    {
      "cell_type": "code",
      "source": [
        "#@title Output your area data\n",
        "#@markdown The data will be output as excel. You can merge results of different outputs as long as the excel structure is maintained.\n",
        "\n",
        "areas_file_name = \"your_result.xlsx\" #@param {type: \"string\"}\n",
        "output_path = folder_path + '/' + areas_file_name\n",
        "df_areas.to_excel(output_path)\n",
        "\n",
        "#@markdown The excel is saved in your tiff image folder."
      ],
      "metadata": {
        "id": "aUz6eWor6YKf",
        "cellView": "form"
      },
      "execution_count": null,
      "outputs": []
    }
  ],
  "metadata": {
    "colab": {
      "provenance": [],
      "include_colab_link": true
    },
    "kernelspec": {
      "display_name": "Python 3",
      "name": "python3"
    },
    "language_info": {
      "name": "python"
    }
  },
  "nbformat": 4,
  "nbformat_minor": 0
}